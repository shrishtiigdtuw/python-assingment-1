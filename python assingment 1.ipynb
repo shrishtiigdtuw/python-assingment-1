{
 "cells": [
  {
   "cell_type": "code",
   "execution_count": 1,
   "id": "da7bab11-c301-4ada-b052-da1ef10dd90e",
   "metadata": {},
   "outputs": [
    {
     "name": "stdin",
     "output_type": "stream",
     "text": [
      "Enter the first number:  15\n",
      "Enter the second number:  15\n"
     ]
    },
    {
     "name": "stdout",
     "output_type": "stream",
     "text": [
      "The sum of 15.0 and 15.0 is: 30.0\n"
     ]
    }
   ],
   "source": [
    "# Function to add two numbers\n",
    "def add_numbers(num1, num2):\n",
    "    return num1 + num2\n",
    "\n",
    "# Taking input from the user\n",
    "number1 = float(input(\"Enter the first number: \"))\n",
    "number2 = float(input(\"Enter the second number: \"))\n",
    "\n",
    "# Calculating the sum\n",
    "sum_of_numbers = add_numbers(number1, number2)\n",
    "\n",
    "# Printing the result\n",
    "print(\"The sum of {} and {} is: {}\".format(number1, number2, sum_of_numbers))\n"
   ]
  },
  {
   "cell_type": "code",
   "execution_count": 2,
   "id": "602eb08a-9f82-4f80-85f5-ee960dc05564",
   "metadata": {},
   "outputs": [
    {
     "name": "stdin",
     "output_type": "stream",
     "text": [
      "Enter a number:  55\n"
     ]
    },
    {
     "name": "stdout",
     "output_type": "stream",
     "text": [
      "The number is odd.\n"
     ]
    }
   ],
   "source": [
    "# Function to check if the number is even or odd\n",
    "def check_even_or_odd(number):\n",
    "    if number % 2 == 0:\n",
    "        return \"The number is even.\"\n",
    "    else:\n",
    "        return \"The number is odd.\"\n",
    "\n",
    "# Input from the user\n",
    "try:\n",
    "    number = int(input(\"Enter a number: \"))\n",
    "    result = check_even_or_odd(number)\n",
    "    print(result)\n",
    "except ValueError:\n",
    "    print(\"Please enter a valid integer.\")\n"
   ]
  },
  {
   "cell_type": "code",
   "execution_count": 3,
   "id": "93a3d4b8-500e-4463-a00b-a65f26f81564",
   "metadata": {},
   "outputs": [
    {
     "name": "stdin",
     "output_type": "stream",
     "text": [
      "Enter a number:  44\n"
     ]
    },
    {
     "name": "stdout",
     "output_type": "stream",
     "text": [
      "The factorial of 44 is 2658271574788448768043625811014615890319638528000000000.\n"
     ]
    }
   ],
   "source": [
    "# Function to calculate the factorial of a number\n",
    "def factorial(number):\n",
    "    if number < 0:\n",
    "        return \"Factorial is not defined for negative numbers.\"\n",
    "    elif number == 0 or number == 1:\n",
    "        return 1\n",
    "    else:\n",
    "        result = 1\n",
    "        for i in range(2, number + 1):\n",
    "            result *= i\n",
    "        return result\n",
    "\n",
    "# Input from the user\n",
    "try:\n",
    "    number = int(input(\"Enter a number: \"))\n",
    "    result = factorial(number)\n",
    "    print(f\"The factorial of {number} is {result}.\")\n",
    "except ValueError:\n",
    "    print(\"Please enter a valid integer.\")\n"
   ]
  },
  {
   "cell_type": "code",
   "execution_count": 4,
   "id": "2b5dc6f1-6da0-4fb5-9eed-4d6dbd2ea951",
   "metadata": {},
   "outputs": [
    {
     "name": "stdin",
     "output_type": "stream",
     "text": [
      "Enter your name:  shrishti\n"
     ]
    },
    {
     "name": "stdout",
     "output_type": "stream",
     "text": [
      "Hello, shrishti! Welcome!\n"
     ]
    }
   ],
   "source": [
    "# Function to greet the user\n",
    "def greet_user(name):\n",
    "    return f\"Hello, {name}! Welcome!\"\n",
    "\n",
    "# Input from the user\n",
    "name = input(\"Enter your name: \")\n",
    "greeting_message = greet_user(name)\n",
    "print(greeting_message)\n"
   ]
  },
  {
   "cell_type": "code",
   "execution_count": 5,
   "id": "72e49af0-8282-4181-af0f-5c707adc41bf",
   "metadata": {},
   "outputs": [
    {
     "name": "stdin",
     "output_type": "stream",
     "text": [
      "Enter a string:  123 shrishti\n"
     ]
    },
    {
     "name": "stdout",
     "output_type": "stream",
     "text": [
      "The string has been written to output.txt.\n"
     ]
    }
   ],
   "source": [
    "# Function to write a string to a text file\n",
    "def write_to_file(input_string, filename):\n",
    "    with open(filename, 'w') as file:\n",
    "        file.write(input_string)\n",
    "    print(f\"The string has been written to {filename}.\")\n",
    "\n",
    "# Input from the user\n",
    "input_string = input(\"Enter a string: \")\n",
    "filename = \"output.txt\"  # You can change the filename as needed\n",
    "write_to_file(input_string, filename)\n"
   ]
  },
  {
   "cell_type": "code",
   "execution_count": 6,
   "id": "238bb05d-5da2-41e6-bca4-efa257c4ab83",
   "metadata": {},
   "outputs": [
    {
     "name": "stdout",
     "output_type": "stream",
     "text": [
      "File content:\n",
      "123 shrishti\n"
     ]
    }
   ],
   "source": [
    "# Function to read and print the content of a text file\n",
    "def read_and_print_file(filename):\n",
    "    try:\n",
    "        with open(filename, 'r') as file:\n",
    "            content = file.read()\n",
    "        print(\"File content:\")\n",
    "        print(content)\n",
    "    except FileNotFoundError:\n",
    "        print(f\"The file {filename} does not exist.\")\n",
    "    except Exception as e:\n",
    "        print(f\"An error occurred: {e}\")\n",
    "\n",
    "# Specify the filename\n",
    "filename = \"output.txt\"  # You can change the filename as needed\n",
    "\n",
    "# Read and print the file content\n",
    "read_and_print_file(filename)\n"
   ]
  },
  {
   "cell_type": "code",
   "execution_count": null,
   "id": "86dcff69-e25d-49fc-9430-219288f9d019",
   "metadata": {},
   "outputs": [],
   "source": []
  }
 ],
 "metadata": {
  "kernelspec": {
   "display_name": "Python 3 (ipykernel)",
   "language": "python",
   "name": "python3"
  },
  "language_info": {
   "codemirror_mode": {
    "name": "ipython",
    "version": 3
   },
   "file_extension": ".py",
   "mimetype": "text/x-python",
   "name": "python",
   "nbconvert_exporter": "python",
   "pygments_lexer": "ipython3",
   "version": "3.11.7"
  }
 },
 "nbformat": 4,
 "nbformat_minor": 5
}
